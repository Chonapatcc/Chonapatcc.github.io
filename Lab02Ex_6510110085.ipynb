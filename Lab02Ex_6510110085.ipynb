{
  "nbformat": 4,
  "nbformat_minor": 0,
  "metadata": {
    "colab": {
      "name": "Lab02Ex-6510110085.ipynb",
      "provenance": [],
      "collapsed_sections": [],
      "authorship_tag": "ABX9TyNvwObm9OePnwRWo0QNXgR6",
      "include_colab_link": true
    },
    "kernelspec": {
      "name": "python3",
      "display_name": "Python 3"
    },
    "language_info": {
      "name": "python"
    }
  },
  "cells": [
    {
      "cell_type": "markdown",
      "metadata": {
        "id": "view-in-github",
        "colab_type": "text"
      },
      "source": [
        "<a href=\"https://colab.research.google.com/github/Chonapatcc/Chonapatcc.github.io/blob/main/Lab02Ex_6510110085.ipynb\" target=\"_parent\"><img src=\"https://colab.research.google.com/assets/colab-badge.svg\" alt=\"Open In Colab\"/></a>"
      ]
    },
    {
      "cell_type": "markdown",
      "source": [
        "Ex 1. โปรแกรมรับความกวางและความยาวของรูปสี่เหลี่ยมผืนผา (Rectangle) แลวคํานวณหาพื้นที่ (Area) และ\n",
        "ความยาวเสนรอบรูป (Perimeter หรือ Circumference)"
      ],
      "metadata": {
        "id": "h8RUEaAeLiei"
      }
    },
    {
      "cell_type": "code",
      "source": [
        "i=input; a,b=i(\"Rectangle width and length: \").split();a,b=int(a),int(b); print(f\"Area = {a*b}, Perimeter = {(a+b)*2}\")"
      ],
      "metadata": {
        "colab": {
          "base_uri": "https://localhost:8080/"
        },
        "id": "bfYkwpdtN1TP",
        "outputId": "4214bea2-d205-4c9f-ff71-3168cef5c84f"
      },
      "execution_count": null,
      "outputs": [
        {
          "output_type": "stream",
          "name": "stdout",
          "text": [
            "Rectangle width and length: 4 5\n",
            "Area = 20, Perimeter = 18\n"
          ]
        }
      ]
    },
    {
      "cell_type": "markdown",
      "source": [
        "Ex 2. โปรแกรมแปลงอุณหภูมิ ระหวาง 3 หนวย จากองศาเซลเซียส เปนองศา ฟาเรนไฮตและ เคลวิน "
      ],
      "metadata": {
        "id": "IjfeH0oxTLQp"
      }
    },
    {
      "cell_type": "code",
      "source": [
        "i=input;cel=float(i(\"Enter temperature in Celsius: \"));fah=(cel*9/5)+32;ke=cel+273.15;print(f\"{cel} Celsius = {fah} Fahrenheit = {ke} Kelvin\")"
      ],
      "metadata": {
        "colab": {
          "base_uri": "https://localhost:8080/"
        },
        "id": "Ny2aW3xkTUiX",
        "outputId": "1d1b3497-7149-4252-ccdc-7ff8b8287c3c"
      },
      "execution_count": null,
      "outputs": [
        {
          "output_type": "stream",
          "name": "stdout",
          "text": [
            "Enter temperature in Celsius:  100\n",
            "100.0 Celsius = 212.0 Fahrenheit = 373.15 Kelvin\n"
          ]
        }
      ]
    },
    {
      "cell_type": "markdown",
      "source": [
        "Ex 3. โปรแกรมแปลงหนวยพื้นที่ เฮกตาร (Hectare) เปน ตารางกิโลเมตร (Square km) และ เอเคอร (Acres)\n",
        "(Hint: ใชสูตรการแปลง 1 Hectare = 0.01 km2 = 2.471 acres)"
      ],
      "metadata": {
        "id": "BQnZRi3gTcPC"
      }
    },
    {
      "cell_type": "code",
      "source": [
        "i=input;hec=float(i(\"Enter area in Hectare: \"));km=hec*0.01;acr=hec*2.471;print(f\"{hec} hectares = {km} sq km = {acr} acres\")"
      ],
      "metadata": {
        "colab": {
          "base_uri": "https://localhost:8080/"
        },
        "id": "1e0Cj31rTcXp",
        "outputId": "3d203e1b-dd04-4d1a-ad86-0fa14fc1c0d1"
      },
      "execution_count": null,
      "outputs": [
        {
          "output_type": "stream",
          "name": "stdout",
          "text": [
            "Enter area in Hectare: 250\n",
            "250.0 hectares = 2.5 sq km = 617.75 acres\n"
          ]
        }
      ]
    },
    {
      "cell_type": "markdown",
      "source": [
        "Ex 4. โปรแกรมรับคาความยาวดาน 3 ดาน ของรูปสามเหลี่ยม ใหใสดานที่ยาวที่สุดเปนคาสุดทาย แลวโปรแกรม\n",
        "ตรวจสอบวาเปนดานของรูปสามเหลี่ยมมุมฉากหรือไม ใหพิมพออกมาวา True หรือ False"
      ],
      "metadata": {
        "id": "JKRGReuJTcgE"
      }
    },
    {
      "cell_type": "code",
      "source": [
        "import math;i=input;print(\"Enter 3 sides of a triangle, the last one must be the longest side\"); lis=i().split();a,b,c=lis;a,b,c=float(a),float(b),float(c);ch=math.sqrt(a**2+b**2);print(c==ch)"
      ],
      "metadata": {
        "colab": {
          "base_uri": "https://localhost:8080/"
        },
        "id": "a5QE-r_7Tcmr",
        "outputId": "70bf5a72-d4b9-458b-a6f3-e0bb8714c121"
      },
      "execution_count": null,
      "outputs": [
        {
          "output_type": "stream",
          "name": "stdout",
          "text": [
            "Enter 3 sides of a triangle, the last one must be the longest side\n",
            "8 6 10\n",
            "True\n"
          ]
        }
      ]
    },
    {
      "cell_type": "markdown",
      "source": [
        "Ex 5. โปรแกรมรับคาจํานวนเต็มบวกสามคา แลวตรวจสอบวาสามคานั้น ประกอบเปนรูปสามเหลี่ยมไดหรือไม ให\n",
        "พิมพออกมาวา True หรือ False (คุณสมบัติของรูปสามเหลี่ยม คือ ความยาวของแตละดาน ตองมีคานอยกวา\n",
        "ผลบวกของอีกสองดานเสมอ) "
      ],
      "metadata": {
        "id": "UGHwbDFmTctX"
      }
    },
    {
      "cell_type": "code",
      "source": [
        "i=input;lis=[int(x) for x in i('Enter 3 integers: ').split()];lis.sort();a,b,c=lis;print(a+b>c)"
      ],
      "metadata": {
        "colab": {
          "base_uri": "https://localhost:8080/"
        },
        "id": "V4BoU13-TczQ",
        "outputId": "ae61f54c-f603-4a4a-af8f-4a29c8e722f1"
      },
      "execution_count": null,
      "outputs": [
        {
          "output_type": "stream",
          "name": "stdout",
          "text": [
            "Enter 3 integers: 12 10 40\n",
            "False\n"
          ]
        }
      ]
    },
    {
      "cell_type": "markdown",
      "source": [
        "Ex 6. โปรแกรมสอบถามชื่อ และปเกิด ของบุคคล จากนั้น ใสคาปปจจุบัน แลวใหแสดงอายุของบุคคลนั้น\n",
        "ดังตัวอยางเชน"
      ],
      "metadata": {
        "id": "lN3A-mToTc5j"
      }
    },
    {
      "cell_type": "code",
      "source": [
        "i=input;name=i('Enter name: ');year=i('Enter birth year: ');curyear=i('Enter current year: ');year,curyear=int(year),int(curyear);print(f\"This year, {name} is {curyear-year} years old.\")"
      ],
      "metadata": {
        "colab": {
          "base_uri": "https://localhost:8080/"
        },
        "id": "fBvVGSTWTc__",
        "outputId": "f8172e0c-db51-413b-f42e-c380861a39fc"
      },
      "execution_count": null,
      "outputs": [
        {
          "output_type": "stream",
          "name": "stdout",
          "text": [
            "Enter name: John Smith\n",
            "Enter birth year: 2001\n",
            "Enter current year: 2021\n",
            "This year, John Smith is 20 years old.\n"
          ]
        }
      ]
    },
    {
      "cell_type": "markdown",
      "source": [
        "Ex 7. โปรแกรมรับคาจํานวนเต็มเปนจํานวนวินาที แลวแปลงใหเปนเวลา จํานวนกี่ชั่วโมง (hour) กี่นาที (minute)\n",
        "และกี่วินาที (second) ในรูปแบบ h:mm:ss (ใหแสดงนาทีและวินาทีเปนตัวเลขสองหลักเสมอ) ดังตัวอยาง \n"
      ],
      "metadata": {
        "id": "H1uz4T__TdGT"
      }
    },
    {
      "cell_type": "code",
      "source": [
        "import time;i=input;sec=i('Enter seconds: ');sec=int(sec);print(f\"Time = {sec//3600}:{(sec%3600//60):02d}:{(sec%60):02d}\")"
      ],
      "metadata": {
        "colab": {
          "base_uri": "https://localhost:8080/"
        },
        "id": "mm4gB0-mTdMO",
        "outputId": "abaa27e0-9e0d-4346-9f84-5eb1cf0d1413"
      },
      "execution_count": null,
      "outputs": [
        {
          "output_type": "stream",
          "name": "stdout",
          "text": [
            "Enter seconds: 101010\n",
            "Time = 28:03:30\n"
          ]
        }
      ]
    },
    {
      "cell_type": "markdown",
      "source": [
        "Ex 8. โปรแกรมรับพิกัดจุด สองจุด (x1, y1) และ (x2, y2) แลวคํานวณหาระยะหางของสองจุดนั้น โดยกําหนด\n",
        "อินพุตเปนจํานวนจริง x1 y1 x2 y2 ตามลําดับ ใหแสดงผลลัพธเปนเลขทศนิยม 3 ตําแหนง (ใหใช operator **\n",
        "ยกกําลัง สําหรับคํานวณคารากที่สอง)"
      ],
      "metadata": {
        "id": "vnbRZCqCTdST"
      }
    },
    {
      "cell_type": "code",
      "source": [
        "import math;i=input;x1,y1,x2,y2=[float(x) for x in i(\"Enter x1 y1 x2 y2: \").split()];dis=math.sqrt((x1-x2)**2+(y1-y2)**2);print(f\"Distance = {round(dis,3)}\")"
      ],
      "metadata": {
        "colab": {
          "base_uri": "https://localhost:8080/"
        },
        "id": "fSx78B7yTdX6",
        "outputId": "230098c8-3cd2-46d1-aa07-4dc3a93e56ed"
      },
      "execution_count": null,
      "outputs": [
        {
          "output_type": "stream",
          "name": "stdout",
          "text": [
            "Enter x1 y1 x2 y2:  2 1.5 3.5 4.8\n",
            "Distance = 3.625\n"
          ]
        }
      ]
    }
  ]
}